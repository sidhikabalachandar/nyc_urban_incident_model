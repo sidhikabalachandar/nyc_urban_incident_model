{
 "cells": [
  {
   "cell_type": "code",
   "execution_count": 1,
   "id": "23da1039-b4d3-4da2-9482-b289e4240e77",
   "metadata": {},
   "outputs": [],
   "source": [
    "# bar plot of corr(pred rating, true rating) for full model, ratings-only model, and reports-only model \n",
    "# on semi-synthetic data for types with observed ratings\n",
    "import os\n",
    "import pandas as pd\n",
    "import pickle\n",
    "import numpy as np\n",
    "import matplotlib.pyplot as plt\n",
    "from scipy.stats import pearsonr\n",
    "import seaborn as sns\n",
    "plt.rcParams['font.family'] = 'serif'\n",
    "\n",
    "# Set the font used for math expressions to LaTeX\n",
    "plt.rcParams[\"mathtext.fontset\"] = \"cm\""
   ]
  },
  {
   "cell_type": "code",
   "execution_count": 2,
   "id": "f81b2df6",
   "metadata": {},
   "outputs": [],
   "source": [
    "# file paths\n",
    "base_file = '/share/garg/311_data/sb2377/clean_codebase/three_year_base.csv'\n",
    "type_rating_observed_base_file = '/share/garg/311_data/sb2377/clean_codebase/three_year_type_rating_observed_base.csv'\n",
    "results_dir = '/share/garg/311_data/sb2377/results'\n",
    "\n",
    "# user specified arguments\n",
    "types = {'Street': 'StreetConditionDOT',\n",
    "         'Park': 'MaintenanceorFacilityDPR',\n",
    "         'Rodent': 'RodentDOHMH',\n",
    "         'Food': 'FoodDOHMH',\n",
    "         'DCWP': 'ConsumerComplaintDCWP'}\n",
    "models = {'Full model': {'job_ids':[i * 3 + 3200 for i in range(20)]},\n",
    "          'Ratings-only model': {'job_ids':[i * 3 + 3202 for i in range(20)]},\n",
    "          'Reports-only model': {'job_ids':[i * 3 + 3201 for i in range(20)]}}\n",
    "epoch = '59'\n",
    "\n",
    "# plotting parameters\n",
    "figsize=(4.5, 4.5)\n",
    "bar_width = 0.25\n",
    "figure_labels = ['Mean'] + list(types.keys())\n",
    "save_path = \"/home/sb2377/gnn_crowdsourced_model/figures/semisynthetic_ratings_observed.pdf\""
   ]
  },
  {
   "cell_type": "code",
   "execution_count": 3,
   "id": "a7c19def-4aff-459e-92b9-d72922ca0b93",
   "metadata": {},
   "outputs": [],
   "source": [
    "# load files\n",
    "base_df = pd.read_csv(base_file)\n",
    "type_rating_observed_base_df = pd.read_csv(type_rating_observed_base_file)"
   ]
  },
  {
   "cell_type": "code",
   "execution_count": 4,
   "id": "271b3ca9-a567-494d-9103-990a08416107",
   "metadata": {},
   "outputs": [],
   "source": [
    "# get type indices\n",
    "# for df with all types\n",
    "type_df = base_df[['typeagency', 'type_idxs']].drop_duplicates()\n",
    "indices = {}\n",
    "for type_name, type_id in types.items():\n",
    "    idx = type_df[type_df['typeagency'] == type_id]['type_idxs'].iloc[0]\n",
    "    indices[type_name] = idx\n",
    "\n",
    "# for df with only types with observed ratings\n",
    "type_df = type_rating_observed_base_df[['typeagency', 'type_idxs']].drop_duplicates()\n",
    "type_rating_observed_indices = {}\n",
    "for type_name, type_id in types.items():\n",
    "    idx = type_df[type_df['typeagency'] == type_id]['type_idxs'].iloc[0]\n",
    "    type_rating_observed_indices[type_name] = idx"
   ]
  },
  {
   "cell_type": "code",
   "execution_count": 5,
   "id": "b72df688-a508-458e-9f01-e785bc91c331",
   "metadata": {},
   "outputs": [
    {
     "name": "stdout",
     "output_type": "stream",
     "text": [
      "Full model: checkpoint files done = 20\n",
      "Full model: results files done = 20\n",
      "Ratings-only model: checkpoint files done = 20\n",
      "Ratings-only model: results files done = 20\n",
      "Reports-only model: checkpoint files done = 20\n",
      "Reports-only model: results files done = 20\n"
     ]
    }
   ],
   "source": [
    "# get predicted ratings for all jobs\n",
    "checkpoint_file = '{}/job{}/model-epoch={}.ckpt'\n",
    "results_file = '{}/job{}/epoch={}_test.pkl'\n",
    "checkpoint_counters = {}\n",
    "results_counters = {}\n",
    "for m in models:\n",
    "    checkpoint_counters[m] = 0\n",
    "    results_counters[m] = 0\n",
    "dfs = {}\n",
    "for m in models:\n",
    "    dfs[m] = []\n",
    "\n",
    "for m in models:\n",
    "    for i, job_idx in enumerate(models[m]['job_ids']):\n",
    "        if os.path.exists(checkpoint_file.format(results_dir, job_idx, epoch)):\n",
    "            checkpoint_counters[m] += 1\n",
    "        if os.path.exists(results_file.format(results_dir, job_idx, epoch)):\n",
    "            results_counters[m] += 1\n",
    "            with open(results_file.format(results_dir, job_idx, epoch), 'rb') as file:\n",
    "                pred_rating, true_rating, mask, node_embedding, type_embedding, node_idxs, type_idxs, demographics, pred_pt, true_t = pickle.load(file)\n",
    "\n",
    "            df = pd.DataFrame()\n",
    "            df['pred_rating'] = pred_rating\n",
    "            df['true_rating'] = true_rating\n",
    "            df['node_idxs'] = node_idxs\n",
    "            df['type_idxs'] = type_idxs\n",
    "            df['pred_pt'] = pred_pt\n",
    "            df['true_t'] = true_t\n",
    "            df['mask'] = mask\n",
    "\n",
    "            dfs[m].append(df)\n",
    "\n",
    "for m in models:\n",
    "    print('{}: checkpoint files done = {}'.format(m, checkpoint_counters[m]))\n",
    "    print('{}: results files done = {}'.format(m, results_counters[m]))"
   ]
  },
  {
   "cell_type": "code",
   "execution_count": 6,
   "id": "48711277-f07b-4348-9322-7431a27c9a69",
   "metadata": {},
   "outputs": [
    {
     "data": {
      "image/png": "[encoded data removed]",
      "text/plain": [
       "<Figure size 450x450 with 1 Axes>"
      ]
     },
     "metadata": {},
     "output_type": "display_data"
    }
   ],
   "source": [
    "# plot figure\n",
    "fig, ax = plt.subplots(figsize=figsize)\n",
    "\n",
    "for i, m in enumerate(models):\n",
    "    df_set = dfs[m]\n",
    "    all_corrs = []\n",
    "    \n",
    "    # Loop through the indices to calculate correlations\n",
    "    for t in types:\n",
    "        idx = indices[t]\n",
    "        type_rating_observed_idx = type_rating_observed_indices[t]\n",
    "        corrs = []\n",
    "        \n",
    "        for observed_df in df_set:\n",
    "            # Filter and group the data\n",
    "            if m == 'Ratings-only model':\n",
    "                observed_test_type_df = observed_df[observed_df['type_idxs'] == type_rating_observed_idx]\n",
    "            else:\n",
    "                observed_test_type_df = observed_df[observed_df['type_idxs'] == idx]\n",
    "            node_df = observed_test_type_df.groupby(['node_idxs', 'type_idxs']).mean().reset_index()\n",
    "            if m == 'Reports-only model':\n",
    "                # for reports-only model, we use -P(T) as a proxy for r\n",
    "                corr = pearsonr(-1 * node_df['pred_pt'], node_df['true_rating'])\n",
    "                \n",
    "            else:\n",
    "                corr = pearsonr(node_df['pred_rating'], node_df['true_rating'])\n",
    "            corrs.append(corr[0])\n",
    "\n",
    "        corrs = np.array(corrs)\n",
    "        all_corrs.append(corrs)\n",
    "        \n",
    "    # Calculate mean over all types with observed ratings\n",
    "    all_corrs = np.array(all_corrs)\n",
    "    mean_for_each_job = all_corrs.mean(axis=0)\n",
    "    mean_for_each_type = all_corrs.mean(axis=1)\n",
    "    mean_overall = all_corrs.mean()\n",
    "    means = np.array([mean_overall] + list(mean_for_each_type))\n",
    "    \n",
    "    # Calculate 95% confidence intervals\n",
    "    se_for_each_type = np.std(all_corrs, axis=1) / all_corrs.shape[1]\n",
    "    se_across_jobs = np.std(mean_for_each_job) / np.sqrt(len(mean_for_each_job) - 1)\n",
    "    ci95_lens = np.array([1.96 * se_across_jobs] + list(1.95 * se_for_each_type))\n",
    "\n",
    "    # plot bar\n",
    "    y = np.arange(len(figure_labels))  # Label positions\n",
    "    ax.barh(y + (i - 1) * bar_width, means, bar_width, xerr=np.array(ci95_lens).transpose(), color='C{}'.format(i), label=m, capsize=0)\n",
    "\n",
    "# Add labels and title\n",
    "plt.yticks(y, figure_labels, fontsize=12)\n",
    "\n",
    "# Access the tick labels and set some to bold\n",
    "ax = plt.gca()  # Get the current axes\n",
    "yticks = ax.get_yticklabels()  # Get the list of x-tick labels\n",
    "for tick, label in zip(yticks, figure_labels):\n",
    "    if label in ['Mean']:  # Define the labels you want to bold\n",
    "        tick.set_fontweight('bold')\n",
    "\n",
    "plt.xlabel('Correlation of predicted ratings', fontsize=12)\n",
    "plt.legend(fontsize=12, loc='lower center', bbox_to_anchor=(0.5, 1.01))\n",
    "\n",
    "# Add horizontal grid lines at each y-tick\n",
    "plt.grid(axis='y', color='lightgray', linestyle='-', linewidth=0.7, which='both', zorder=0)\n",
    "sns.despine()\n",
    "\n",
    "# Invert the y-axis\n",
    "ax.invert_yaxis()\n",
    "plt.savefig(save_path, format=\"pdf\", bbox_inches=\"tight\")"
   ]
  },
  {
   "cell_type": "code",
   "execution_count": null,
   "id": "7ca63630",
   "metadata": {},
   "outputs": [],
   "source": []
  }
 ],
 "metadata": {
  "kernelspec": {
   "display_name": "Environment (conda_gnn)",
   "language": "python",
   "name": "conda_gnn"
  },
  "language_info": {
   "codemirror_mode": {
    "name": "ipython",
    "version": 3
   },
   "file_extension": ".py",
   "mimetype": "text/x-python",
   "name": "python",
   "nbconvert_exporter": "python",
   "pygments_lexer": "ipython3",
   "version": "3.11.11"
  }
 },
 "nbformat": 4,
 "nbformat_minor": 5
}
